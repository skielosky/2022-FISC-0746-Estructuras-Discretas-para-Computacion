{
  "nbformat": 4,
  "nbformat_minor": 0,
  "metadata": {
    "colab": {
      "name": "Lab03.ipynb",
      "provenance": []
    },
    "kernelspec": {
      "name": "python3",
      "display_name": "Python 3"
    },
    "language_info": {
      "name": "python"
    }
  },
  "cells": [
    {
      "cell_type": "markdown",
      "source": [
        ""
      ],
      "metadata": {
        "id": "AfT7z3e6Eyg4"
      }
    },
    {
      "cell_type": "markdown",
      "source": [
        "# Universidad Tecnológica de Panama\n",
        "![alt text](http://www.fisc.utp.ac.pa/sites/all/themes/custom/sub_facultad/tropical_fisc/logo.png)\n",
        "### Facultad de Ingeniería de Sistemas Computacionales\n",
        "### Departamento de Computación y Simulación de Sistemas\n",
        "### Estructuras Discretas para la Computación\n",
        "### Prof. Ezequiel Aguilar González\n",
        "- Tareas\n",
        "- Talleres\n",
        "\n",
        "\n"
      ],
      "metadata": {
        "id": "8yH5Jvz6DhGF"
      }
    },
    {
      "cell_type": "code",
      "execution_count": 7,
      "metadata": {
        "colab": {
          "base_uri": "https://localhost:8080/"
        },
        "id": "el6hQGzZ58VH",
        "outputId": "cb89fdc3-945c-440e-81cd-6b70748fd4ad"
      },
      "outputs": [
        {
          "output_type": "stream",
          "name": "stdout",
          "text": [
            "Nombre: Ezequiel Aguilar\n",
            "Carrera: \n",
            "Año:\n"
          ]
        }
      ],
      "source": [
        "# nuestra primera funcion\n",
        "def print_informacion():\n",
        "  print('Nombre: Ezequiel Aguilar')\n",
        "  print('Carrera: ')\n",
        "  print('Año:')\n",
        "\n",
        "print_informacion()"
      ]
    },
    {
      "cell_type": "code",
      "source": [
        "def calc():\n",
        "  x, y = 5, 11\n",
        "  print(x + y)\n",
        "\n",
        "calc()"
      ],
      "metadata": {
        "colab": {
          "base_uri": "https://localhost:8080/"
        },
        "id": "ES7wlcAn9a3P",
        "outputId": "c1c66bc2-c95d-4a5b-fffe-b8987cda2bea"
      },
      "execution_count": 3,
      "outputs": [
        {
          "output_type": "stream",
          "name": "stdout",
          "text": [
            "16\n"
          ]
        }
      ]
    },
    {
      "cell_type": "code",
      "source": [
        "def calc4(x, y):\n",
        "  print(x + y)\n",
        "\n",
        "calc2(12, 5)"
      ],
      "metadata": {
        "colab": {
          "base_uri": "https://localhost:8080/"
        },
        "id": "f1vlY2p8-BZP",
        "outputId": "803e64c7-7571-4e38-f95d-e95e47e39351"
      },
      "execution_count": 9,
      "outputs": [
        {
          "output_type": "stream",
          "name": "stdout",
          "text": [
            "17\n"
          ]
        }
      ]
    },
    {
      "cell_type": "code",
      "source": [
        "calc2(15, 8)"
      ],
      "metadata": {
        "colab": {
          "base_uri": "https://localhost:8080/"
        },
        "id": "EYKuJZXn-yqO",
        "outputId": "1e77916e-b95d-42ff-f652-880d69d7b467"
      },
      "execution_count": 10,
      "outputs": [
        {
          "output_type": "stream",
          "name": "stdout",
          "text": [
            "23\n"
          ]
        }
      ]
    },
    {
      "cell_type": "code",
      "source": [
        "def calc5(x, y):\n",
        "  \n",
        "  return x + y\n",
        "\n",
        "suma = calc5(1, 4)\n",
        "print(suma)"
      ],
      "metadata": {
        "colab": {
          "base_uri": "https://localhost:8080/"
        },
        "id": "zo9_bFKb_jIf",
        "outputId": "545cf0cd-ffdd-46ab-e10d-b4ce6b300e16"
      },
      "execution_count": 13,
      "outputs": [
        {
          "output_type": "stream",
          "name": "stdout",
          "text": [
            "5\n"
          ]
        }
      ]
    },
    {
      "cell_type": "code",
      "source": [
        "def calcular_area(r, pi = 3.14):\n",
        "  area = pi * (r**2)\n",
        "  return area\n",
        "\n",
        "area2 = calcular_area(5)\n",
        "print('El area es: {}'.format(area2))"
      ],
      "metadata": {
        "colab": {
          "base_uri": "https://localhost:8080/"
        },
        "id": "-RZwm5dpA-Mj",
        "outputId": "5ff1709c-361f-4c2a-84db-9f2d94bdde84"
      },
      "execution_count": 15,
      "outputs": [
        {
          "output_type": "stream",
          "name": "stdout",
          "text": [
            "El area es: 78.5\n"
          ]
        }
      ]
    },
    {
      "cell_type": "code",
      "source": [
        "from IPython.display import clear_output\n",
        "\n",
        "# Lista global\n",
        "carrito = []\n",
        "\n",
        "# se agrega el producto al carrito\n",
        "def agregar_item(item):\n",
        "  clear_output()\n",
        "  carrito.append(item)\n",
        "  print('{} ha sido agregado'.format(item))\n",
        "\n",
        "# funcion para mostrar los elementos del carrito\n",
        "def mostrar_carrito():\n",
        "  clear_output()\n",
        "  if carrito:\n",
        "    print('Aquí su carrito de compras:')\n",
        "    for item in carrito:\n",
        "      print('- {}'.format(item))\n",
        "  else:\n",
        "    print('Su carrito de compras esta vacío.')\n",
        "\n",
        "# función para eliminar un item del carrito\n",
        "def eliminar_item(item):\n",
        "  clear_output()\n",
        "  try:\n",
        "    carrito.remove(item)\n",
        "    print('{} ha sido eliminado.'.format(item))\n",
        "  except:\n",
        "    print('No hay elementos para eliminar')\n",
        "\n",
        "def main():\n",
        "  done = False\n",
        "\n",
        "  while not done:\n",
        "    entrada = input('Escriba una de las siguientes opciones (salir/agregar/eliminar/mostrar): ').lower()\n",
        "\n",
        "    if entrada == 'salir':\n",
        "      print('Gracias por usar el programa')\n",
        "      done = True\n",
        "    elif entrada == 'agregar':\n",
        "      item = input('¿ Qué desea agregar?').title()\n",
        "      agregar_item(item)\n",
        "    elif entrada == 'eliminar':\n",
        "      mostrar_carrito()\n",
        "      item =input('¿Qué elemento desea eliminar?').title()\n",
        "      eliminar_item(item)\n",
        "    elif entrada == 'mostrar':\n",
        "      mostrar_carrito()\n",
        "    else:\n",
        "      print('Esa no es una opción')\n",
        "\n",
        "\n",
        "main()"
      ],
      "metadata": {
        "colab": {
          "base_uri": "https://localhost:8080/"
        },
        "id": "5TaUTdhZEz5p",
        "outputId": "e1a381d2-3646-437b-fba2-a20da848889b"
      },
      "execution_count": 28,
      "outputs": [
        {
          "output_type": "stream",
          "name": "stdout",
          "text": [
            "Aquí su carrito de compras:\n",
            "- Pan\n",
            "- Mantequilla\n",
            "Escriba una de las siguientes opciones (salir/agregar/eliminar/mostrar): salir\n",
            "Gracias por usar el programa\n"
          ]
        }
      ]
    },
    {
      "cell_type": "code",
      "source": [
        "texto = \"Universidad TECNologica de PANAMA\"\n",
        "\n",
        "print(texto.lower())"
      ],
      "metadata": {
        "colab": {
          "base_uri": "https://localhost:8080/"
        },
        "id": "qb-pVamSGicb",
        "outputId": "b177b231-8807-4518-cfe9-de0483e83e83"
      },
      "execution_count": 20,
      "outputs": [
        {
          "output_type": "stream",
          "name": "stdout",
          "text": [
            "universidad tecnologica de panama\n"
          ]
        }
      ]
    },
    {
      "cell_type": "code",
      "source": [
        "elementos = [1,2,3]\n",
        "elementos.append(4)\n",
        "print(elementos)\n",
        "elementos.remove(2)\n",
        "print(elementos)\n"
      ],
      "metadata": {
        "colab": {
          "base_uri": "https://localhost:8080/"
        },
        "id": "XjuEf2AaNmOt",
        "outputId": "8d2d978d-aec2-476b-d2df-03e20056d2fb"
      },
      "execution_count": 29,
      "outputs": [
        {
          "output_type": "stream",
          "name": "stdout",
          "text": [
            "[1, 2, 3, 4]\n",
            "[1, 3, 4]\n"
          ]
        }
      ]
    },
    {
      "cell_type": "markdown",
      "source": [
        "# Tarea\n",
        "1. Crear una función que multiplique tres valores y regrese el resultado.\n",
        "2. **Modificar el carrito de compras:** Modificar el carrito de compras para que tenga una funcionalidad \"cantidad\" que muestre la cantidad de elementos que hay en el carrito\n"
      ],
      "metadata": {
        "id": "QAY3eL3LQyu8"
      }
    }
  ]
}