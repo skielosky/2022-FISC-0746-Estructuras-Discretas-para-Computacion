{
  "nbformat": 4,
  "nbformat_minor": 0,
  "metadata": {
    "colab": {
      "name": "Lab03.ipynb",
      "provenance": []
    },
    "kernelspec": {
      "name": "python3",
      "display_name": "Python 3"
    },
    "language_info": {
      "name": "python"
    }
  },
  "cells": [
    {
      "cell_type": "markdown",
      "source": [
        "# Universidad Tecnológica de Panama\n",
        "![alt text](http://www.fisc.utp.ac.pa/sites/all/themes/custom/sub_facultad/tropical_fisc/logo.png)\n",
        "### Facultad de Ingeniería de Sistemas Computacionales\n",
        "### Departamento de Computación y Simulación de Sistemas\n",
        "### Estructuras Discretas para la Computación\n",
        "### Prof. Ezequiel Aguilar González\n"
      ],
      "metadata": {
        "id": "8yH5Jvz6DhGF"
      }
    },
    {
      "cell_type": "code",
      "execution_count": 7,
      "metadata": {
        "colab": {
          "base_uri": "https://localhost:8080/"
        },
        "id": "el6hQGzZ58VH",
        "outputId": "cb89fdc3-945c-440e-81cd-6b70748fd4ad"
      },
      "outputs": [
        {
          "output_type": "stream",
          "name": "stdout",
          "text": [
            "Nombre: Ezequiel Aguilar\n",
            "Carrera: \n",
            "Año:\n"
          ]
        }
      ],
      "source": [
        "# nuestra primera funcion\n",
        "def print_informacion():\n",
        "  print('Nombre: Ezequiel Aguilar')\n",
        "  print('Carrera: ')\n",
        "  print('Año:')\n",
        "\n",
        "print_informacion()"
      ]
    },
    {
      "cell_type": "code",
      "source": [
        "def calc():\n",
        "  x, y = 5, 11\n",
        "  print(x + y)\n",
        "\n",
        "calc()"
      ],
      "metadata": {
        "colab": {
          "base_uri": "https://localhost:8080/"
        },
        "id": "ES7wlcAn9a3P",
        "outputId": "c1c66bc2-c95d-4a5b-fffe-b8987cda2bea"
      },
      "execution_count": 3,
      "outputs": [
        {
          "output_type": "stream",
          "name": "stdout",
          "text": [
            "16\n"
          ]
        }
      ]
    },
    {
      "cell_type": "code",
      "source": [
        "def calc4(x, y):\n",
        "  print(x + y)\n",
        "\n",
        "calc2(12, 5)"
      ],
      "metadata": {
        "colab": {
          "base_uri": "https://localhost:8080/"
        },
        "id": "f1vlY2p8-BZP",
        "outputId": "803e64c7-7571-4e38-f95d-e95e47e39351"
      },
      "execution_count": 9,
      "outputs": [
        {
          "output_type": "stream",
          "name": "stdout",
          "text": [
            "17\n"
          ]
        }
      ]
    },
    {
      "cell_type": "code",
      "source": [
        "calc2(15, 8)"
      ],
      "metadata": {
        "colab": {
          "base_uri": "https://localhost:8080/"
        },
        "id": "EYKuJZXn-yqO",
        "outputId": "1e77916e-b95d-42ff-f652-880d69d7b467"
      },
      "execution_count": 10,
      "outputs": [
        {
          "output_type": "stream",
          "name": "stdout",
          "text": [
            "23\n"
          ]
        }
      ]
    },
    {
      "cell_type": "code",
      "source": [
        "def calc5(x, y):\n",
        "  \n",
        "  return x + y\n",
        "\n",
        "suma = calc5(1, 4)\n",
        "print(suma)"
      ],
      "metadata": {
        "colab": {
          "base_uri": "https://localhost:8080/"
        },
        "id": "zo9_bFKb_jIf",
        "outputId": "545cf0cd-ffdd-46ab-e10d-b4ce6b300e16"
      },
      "execution_count": 13,
      "outputs": [
        {
          "output_type": "stream",
          "name": "stdout",
          "text": [
            "5\n"
          ]
        }
      ]
    },
    {
      "cell_type": "code",
      "source": [
        "def calcular_area(r, pi = 3.14):\n",
        "  area = pi * (r**2)\n",
        "  return area\n",
        "\n",
        "area2 = calcular_area(5)\n",
        "print('El area es: {}'.format(area2))"
      ],
      "metadata": {
        "colab": {
          "base_uri": "https://localhost:8080/"
        },
        "id": "-RZwm5dpA-Mj",
        "outputId": "5ff1709c-361f-4c2a-84db-9f2d94bdde84"
      },
      "execution_count": 15,
      "outputs": [
        {
          "output_type": "stream",
          "name": "stdout",
          "text": [
            "El area es: 78.5\n"
          ]
        }
      ]
    }
  ]
}