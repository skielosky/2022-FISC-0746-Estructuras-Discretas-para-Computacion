{
  "nbformat": 4,
  "nbformat_minor": 0,
  "metadata": {
    "colab": {
      "name": "EDC01.ipynb",
      "provenance": []
    },
    "kernelspec": {
      "name": "python3",
      "display_name": "Python 3"
    }
  },
  "cells": [
    {
      "cell_type": "markdown",
      "metadata": {
        "id": "p6ihb74LPcPP",
        "colab_type": "text"
      },
      "source": [
        "![alt text](http://www.fisc.utp.ac.pa/sites/all/themes/custom/sub_facultad/tropical_fisc/logo.png)\n",
        "\n",
        "# Universidad Tecnológica de Panamá\n",
        "### Facultad de Ingeniería de Sistemas Computacionales\n",
        "### Departamento de Computación y Simulación de Sistemas\n",
        "### Estructuras Discretas para la Computación\n",
        "#### Prof. Ezequiel Aguilar González\n",
        "\n",
        "\n",
        "## Taller 01\n"
      ]
    },
    {
      "cell_type": "markdown",
      "metadata": {
        "id": "OFWzzTWHTafe",
        "colab_type": "text"
      },
      "source": [
        "### Strings"
      ]
    },
    {
      "cell_type": "code",
      "metadata": {
        "id": "kXKMx752Lf2p",
        "colab_type": "code",
        "colab": {
          "base_uri": "https://localhost:8080/",
          "height": 34
        },
        "outputId": "11faac04-041e-45f2-874d-1c13ed60d6b3"
      },
      "source": [
        "primer_nombre = \"ezequiel\"\n",
        "apellidos = \"aguilar gonzalez\"\n",
        "nombre_completo = primer_nombre + \" \" + apellidos\n",
        "\n",
        "mensaje = \"Hola, \" + nombre_completo.title() + \"!\"\n",
        "print(mensaje)"
      ],
      "execution_count": 6,
      "outputs": [
        {
          "output_type": "stream",
          "text": [
            "Hola, Ezequiel Aguilar Gonzalez!\n"
          ],
          "name": "stdout"
        }
      ]
    },
    {
      "cell_type": "markdown",
      "metadata": {
        "id": "w5Dn15w3ThiA",
        "colab_type": "text"
      },
      "source": [
        "### Arrays"
      ]
    },
    {
      "cell_type": "code",
      "metadata": {
        "id": "9XuF390WToJ2",
        "colab_type": "code",
        "colab": {
          "base_uri": "https://localhost:8080/",
          "height": 151
        },
        "outputId": "1dc19ce9-e416-4d16-ecc1-98dffd483930"
      },
      "source": [
        "autos = ['Honda', 'Toyota', 'Ferrari', 'Bugatti']\n",
        "\n",
        "print(\"Lista Original\")\n",
        "print(autos)\n",
        "\n",
        "print(\"\\nLista Ordenada\")\n",
        "print(sorted(autos))\n",
        "\n",
        "print(\"\\n Lista Ordenada de forma inversa al ordenamiento alfabetico\")\n",
        "print(sorted(autos, reverse=True))"
      ],
      "execution_count": 10,
      "outputs": [
        {
          "output_type": "stream",
          "text": [
            "Lista Original\n",
            "['Honda', 'Toyota', 'Ferrari', 'Bugatti']\n",
            "\n",
            "Lista Ordenada\n",
            "['Bugatti', 'Ferrari', 'Honda', 'Toyota']\n",
            "\n",
            " Lista Ordenada de forma inversa al ordenamiento alfabetico\n",
            "['Toyota', 'Honda', 'Ferrari', 'Bugatti']\n"
          ],
          "name": "stdout"
        }
      ]
    },
    {
      "cell_type": "code",
      "metadata": {
        "id": "VoqvEBAiYfFV",
        "colab_type": "code",
        "colab": {
          "base_uri": "https://localhost:8080/",
          "height": 34
        },
        "outputId": "0ad3d276-7ef8-42c2-8c53-f999b0f238c2"
      },
      "source": [
        "c = [-45, 6, 0, 72, 1543]\n",
        "c[0]\n"
      ],
      "execution_count": 12,
      "outputs": [
        {
          "output_type": "execute_result",
          "data": {
            "text/plain": [
              "-45"
            ]
          },
          "metadata": {
            "tags": []
          },
          "execution_count": 12
        }
      ]
    },
    {
      "cell_type": "code",
      "metadata": {
        "id": "MorcFXUCYlyd",
        "colab_type": "code",
        "colab": {
          "base_uri": "https://localhost:8080/",
          "height": 34
        },
        "outputId": "d3bc0723-84f6-44d9-938e-58a58613e801"
      },
      "source": [
        "len(c)"
      ],
      "execution_count": 13,
      "outputs": [
        {
          "output_type": "execute_result",
          "data": {
            "text/plain": [
              "5"
            ]
          },
          "metadata": {
            "tags": []
          },
          "execution_count": 13
        }
      ]
    },
    {
      "cell_type": "code",
      "metadata": {
        "id": "HcbIBILuYrGq",
        "colab_type": "code",
        "colab": {
          "base_uri": "https://localhost:8080/",
          "height": 34
        },
        "outputId": "a3b60c71-f2f8-49a4-cc5d-c62b8a4621d2"
      },
      "source": [
        "#Lista vacia\n",
        "a_list = []\n",
        "print(a_list)"
      ],
      "execution_count": 23,
      "outputs": [
        {
          "output_type": "stream",
          "text": [
            "[]\n"
          ],
          "name": "stdout"
        }
      ]
    },
    {
      "cell_type": "code",
      "metadata": {
        "id": "stVvz68RY50M",
        "colab_type": "code",
        "colab": {
          "base_uri": "https://localhost:8080/",
          "height": 34
        },
        "outputId": "6a8bdd04-3a09-4934-9911-1a9e59c923ac"
      },
      "source": [
        "for numero in range(1, 6):\n",
        "  a_list.append(numero)\n",
        "\n",
        "print(a_list)"
      ],
      "execution_count": 24,
      "outputs": [
        {
          "output_type": "stream",
          "text": [
            "[1, 2, 3, 4, 5]\n"
          ],
          "name": "stdout"
        }
      ]
    },
    {
      "cell_type": "markdown",
      "metadata": {
        "id": "Li5TVh0BbRd8",
        "colab_type": "text"
      },
      "source": [
        "## Tarea 01\n",
        "Calcular el promedio de todos los estudiantes"
      ]
    },
    {
      "cell_type": "code",
      "metadata": {
        "id": "NJnM9FELbfSR",
        "colab_type": "code",
        "colab": {
          "base_uri": "https://localhost:8080/",
          "height": 84
        },
        "outputId": "0975e2cb-a7fb-44b7-a1c8-4c7dd542e5c9"
      },
      "source": [
        "libro_notas = {\n",
        "    'Susana': [92, 85, 100],\n",
        "    'Eduardo': [83, 95, 79],\n",
        "    'Ariel': [91, 89, 82],\n",
        "    'Pedro': [97, 91, 92]\n",
        "}\n",
        "\n",
        "total_notas = 0\n",
        "notas_contador = 0\n",
        "\n",
        "for nombres, notas in libro_notas.items():\n",
        "  print(nombres)"
      ],
      "execution_count": 26,
      "outputs": [
        {
          "output_type": "stream",
          "text": [
            "Susana\n",
            "Eduardo\n",
            "Ariel\n",
            "Pedro\n"
          ],
          "name": "stdout"
        }
      ]
    },
    {
      "cell_type": "code",
      "metadata": {
        "id": "yOg0RQfRaq2e",
        "colab_type": "code",
        "colab": {}
      },
      "source": [
        ""
      ],
      "execution_count": 0,
      "outputs": []
    }
  ]
}